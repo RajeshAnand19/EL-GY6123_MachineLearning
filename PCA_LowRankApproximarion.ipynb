{
 "cells": [
  {
   "cell_type": "markdown",
   "metadata": {},
   "source": [
    "# Lab:  Low-Rank Approximation for Movie Recommendations\n",
    "\n",
    "A common application of low-rank approximation is for recommender systems.  In this lab, we will create a very primitive recommendation system for movies.  Through the lab, you will learn to:\n",
    "\n",
    "* Represent ratings data as a sparse matrix\n",
    "* Evaluate the mean absolute error (MAE) using simple movie or user biases\n",
    "* Create a low-rank model in Tensorflow for predicting the movie rating using `Embedding` layers\n",
    "* Train the model and optimize the embedding dimension.\n",
    "* Make predictions on new users."
   ]
  },
  {
   "cell_type": "markdown",
   "metadata": {},
   "source": [
    "## Loading the MovieLens Dataset\n",
    "\n",
    "We first load some common packages."
   ]
  },
  {
   "cell_type": "code",
   "execution_count": 1,
   "metadata": {},
   "outputs": [],
   "source": [
    "import pandas as pd\n",
    "import numpy as np\n",
    "import matplotlib.pyplot as plt"
   ]
  },
  {
   "cell_type": "markdown",
   "metadata": {},
   "source": [
    "[GroupLens](https://grouplens.org/) is a research organization at the University of Minnesota that has done extensive work in recommendation systems among other topics.  They have excellent datasets on movie recommendations as part of their [MovieLens project](https://movielens.org/).  In this lab, we will use a relatively small dataset, `Movielens 1m` that has 1 million ratings.  If you are interested in continuing research in this area, they have much larger datasets as well.  But, this relatively small one is sufficient to illustrate the basic concepts.\n",
    "\n",
    "To get the data, go to the webpage:\n",
    "\n",
    "https://grouplens.org/datasets/movielens/latest/\n",
    "\n",
    "and download and unzip the files, `ml-1m.zip`.  Alternatively, you can just run the following command which will download unzip the file for you."
   ]
  },
  {
   "cell_type": "code",
   "execution_count": 2,
   "metadata": {},
   "outputs": [
    {
     "name": "stdout",
     "output_type": "stream",
     "text": [
      "Files ml-1m\\ratings.dat and ml-1m\\movies.dat already downloaded\n"
     ]
    }
   ],
   "source": [
    "import tqdm\n",
    "import requests\n",
    "import os\n",
    "import zipfile\n",
    "\n",
    "# Set the files names for movies and ratings files\n",
    "ml_dir = 'ml-1m'\n",
    "ratings_fn = os.path.join(ml_dir,'ratings.dat')\n",
    "movies_fn = os.path.join(ml_dir,'movies.dat')\n",
    "\n",
    "def download_file(src_url, dst_fn):\n",
    "    \n",
    "    if os.path.exists(dst_fn):\n",
    "        print('File %s already exists' % dst_fn)\n",
    "        return\n",
    "    \n",
    "    print('Downloading %s' % dst_fn)\n",
    "    \n",
    "    # Streaming, so we can iterate over the response.\n",
    "    r = requests.get(src_url, stream=True)\n",
    "\n",
    "    # Total size in MB.\n",
    "    total_size = int(r.headers.get('content-length', 0)); \n",
    "    block_size = 1024\n",
    "    wrote = 0 \n",
    "    with open(dst_fn, 'wb') as f:\n",
    "        with tqdm.tqdm_notebook(total=total_size//block_size, unit='kB', \n",
    "                           unit_scale=True, unit_divisor=1024) as pbar:\n",
    "            for data in r.iter_content(block_size):\n",
    "                wrote = wrote + len(data)\n",
    "                pbar.update(1)\n",
    "                f.write(data)\n",
    "    if total_size != 0 and wrote != total_size:\n",
    "        print(\"ERROR, something went wrong\") \n",
    "\n",
    "# Test if all files are downloaded\n",
    "files_exists = False\n",
    "if os.path.exists(ml_dir):\n",
    "    if os.path.exists(ratings_fn) and os.path.exists(movies_fn):\n",
    "        files_exists = True\n",
    "\n",
    "if files_exists:\n",
    "    print('Files %s and %s already downloaded' % (ratings_fn, movies_fn))\n",
    "\n",
    "else:\n",
    "    # First download the zip file if needed\n",
    "    src_url = 'http://files.grouplens.org/datasets/movielens/ml-1m.zip'\n",
    "    dst_fn = 'ml-1m.zip'\n",
    "    download_file(src_url, dst_fn)\n",
    "    \n",
    "    # Then, unzip the file\n",
    "    print('Unzipping %s...' % dst_fn)\n",
    "    zip_ref = zipfile.ZipFile(dst_fn, 'r')\n",
    "    zip_ref.extractall('.')\n",
    "    zip_ref.close()\n",
    "    print('Unzip completed')"
   ]
  },
  {
   "cell_type": "markdown",
   "metadata": {},
   "source": [
    "Read the movies files with the `read_csv` command.  Print the first 5 entries of the dataframe.  You will see that the file has a list of movies.  Each movie has a `movieId` and `title`."
   ]
  },
  {
   "cell_type": "code",
   "execution_count": 3,
   "metadata": {},
   "outputs": [
    {
     "data": {
      "text/html": [
       "<div>\n",
       "<style scoped>\n",
       "    .dataframe tbody tr th:only-of-type {\n",
       "        vertical-align: middle;\n",
       "    }\n",
       "\n",
       "    .dataframe tbody tr th {\n",
       "        vertical-align: top;\n",
       "    }\n",
       "\n",
       "    .dataframe thead th {\n",
       "        text-align: right;\n",
       "    }\n",
       "</style>\n",
       "<table border=\"1\" class=\"dataframe\">\n",
       "  <thead>\n",
       "    <tr style=\"text-align: right;\">\n",
       "      <th></th>\n",
       "      <th>movieId</th>\n",
       "      <th>title</th>\n",
       "      <th>genre</th>\n",
       "    </tr>\n",
       "  </thead>\n",
       "  <tbody>\n",
       "    <tr>\n",
       "      <th>0</th>\n",
       "      <td>1</td>\n",
       "      <td>Toy Story (1995)</td>\n",
       "      <td>Animation|Children's|Comedy</td>\n",
       "    </tr>\n",
       "    <tr>\n",
       "      <th>1</th>\n",
       "      <td>2</td>\n",
       "      <td>Jumanji (1995)</td>\n",
       "      <td>Adventure|Children's|Fantasy</td>\n",
       "    </tr>\n",
       "    <tr>\n",
       "      <th>2</th>\n",
       "      <td>3</td>\n",
       "      <td>Grumpier Old Men (1995)</td>\n",
       "      <td>Comedy|Romance</td>\n",
       "    </tr>\n",
       "    <tr>\n",
       "      <th>3</th>\n",
       "      <td>4</td>\n",
       "      <td>Waiting to Exhale (1995)</td>\n",
       "      <td>Comedy|Drama</td>\n",
       "    </tr>\n",
       "    <tr>\n",
       "      <th>4</th>\n",
       "      <td>5</td>\n",
       "      <td>Father of the Bride Part II (1995)</td>\n",
       "      <td>Comedy</td>\n",
       "    </tr>\n",
       "  </tbody>\n",
       "</table>\n",
       "</div>"
      ],
      "text/plain": [
       "   movieId                               title                         genre\n",
       "0        1                    Toy Story (1995)   Animation|Children's|Comedy\n",
       "1        2                      Jumanji (1995)  Adventure|Children's|Fantasy\n",
       "2        3             Grumpier Old Men (1995)                Comedy|Romance\n",
       "3        4            Waiting to Exhale (1995)                  Comedy|Drama\n",
       "4        5  Father of the Bride Part II (1995)                        Comedy"
      ]
     },
     "execution_count": 3,
     "metadata": {},
     "output_type": "execute_result"
    }
   ],
   "source": [
    "# TODO:  Read the movies \n",
    "import os\n",
    "movies = pd.read_csv(movies_fn, sep='::', engine='python', encoding='latin-1',\\\n",
    "                    names=['movieId','title','genre'])\n",
    "\n",
    "# TODO:  Use the movies.head() to display the first 5 entries\n",
    "movies.head()"
   ]
  },
  {
   "cell_type": "markdown",
   "metadata": {},
   "source": [
    "Extract the following columns from the `movies` dataframe:\n",
    "*  Extract the `movieId` column, convert to an `np.array` and store in `movie_ids`\n",
    "*  Extract the `title` column, convert to a list (using `.tolist()`) and store in `titles`"
   ]
  },
  {
   "cell_type": "code",
   "execution_count": 4,
   "metadata": {},
   "outputs": [],
   "source": [
    "# TODO:\n",
    "# movie_id = ...\n",
    "# titles = ...\n",
    "movie_ids = np.array(movies['movieId'],dtype=int)\n",
    "titles = movies['title'].tolist()"
   ]
  },
  {
   "cell_type": "markdown",
   "metadata": {},
   "source": [
    "The following function returns the string of a movie title, given its movie id."
   ]
  },
  {
   "cell_type": "code",
   "execution_count": 5,
   "metadata": {},
   "outputs": [],
   "source": [
    "def get_movie_title(movie_id):\n",
    "    I = np.where(movie_ids == movie_id)[0]\n",
    "    if len(I) == 0:\n",
    "        return 'unknown'\n",
    "    else:\n",
    "        return titles[I[0]]"
   ]
  },
  {
   "cell_type": "markdown",
   "metadata": {},
   "source": [
    "Load the `ratings.dat` file into a `pandas` dataframe `ratings`.  Use the `head` method to print the first five rows of the dataframe.  This is a large file, so it may take a minute to read in."
   ]
  },
  {
   "cell_type": "code",
   "execution_count": 6,
   "metadata": {},
   "outputs": [
    {
     "data": {
      "text/html": [
       "<div>\n",
       "<style scoped>\n",
       "    .dataframe tbody tr th:only-of-type {\n",
       "        vertical-align: middle;\n",
       "    }\n",
       "\n",
       "    .dataframe tbody tr th {\n",
       "        vertical-align: top;\n",
       "    }\n",
       "\n",
       "    .dataframe thead th {\n",
       "        text-align: right;\n",
       "    }\n",
       "</style>\n",
       "<table border=\"1\" class=\"dataframe\">\n",
       "  <thead>\n",
       "    <tr style=\"text-align: right;\">\n",
       "      <th></th>\n",
       "      <th>userId</th>\n",
       "      <th>movieId</th>\n",
       "      <th>rating</th>\n",
       "      <th>timestamp</th>\n",
       "    </tr>\n",
       "  </thead>\n",
       "  <tbody>\n",
       "    <tr>\n",
       "      <th>0</th>\n",
       "      <td>1</td>\n",
       "      <td>1193</td>\n",
       "      <td>5</td>\n",
       "      <td>978300760</td>\n",
       "    </tr>\n",
       "    <tr>\n",
       "      <th>1</th>\n",
       "      <td>1</td>\n",
       "      <td>661</td>\n",
       "      <td>3</td>\n",
       "      <td>978302109</td>\n",
       "    </tr>\n",
       "    <tr>\n",
       "      <th>2</th>\n",
       "      <td>1</td>\n",
       "      <td>914</td>\n",
       "      <td>3</td>\n",
       "      <td>978301968</td>\n",
       "    </tr>\n",
       "    <tr>\n",
       "      <th>3</th>\n",
       "      <td>1</td>\n",
       "      <td>3408</td>\n",
       "      <td>4</td>\n",
       "      <td>978300275</td>\n",
       "    </tr>\n",
       "    <tr>\n",
       "      <th>4</th>\n",
       "      <td>1</td>\n",
       "      <td>2355</td>\n",
       "      <td>5</td>\n",
       "      <td>978824291</td>\n",
       "    </tr>\n",
       "  </tbody>\n",
       "</table>\n",
       "</div>"
      ],
      "text/plain": [
       "   userId  movieId  rating  timestamp\n",
       "0       1     1193       5  978300760\n",
       "1       1      661       3  978302109\n",
       "2       1      914       3  978301968\n",
       "3       1     3408       4  978300275\n",
       "4       1     2355       5  978824291"
      ]
     },
     "execution_count": 6,
     "metadata": {},
     "output_type": "execute_result"
    }
   ],
   "source": [
    "# TODO\n",
    "# ratings = ...\n",
    "#ratings = pd.read_csv(...)\n",
    "ratings = pd.read_csv(ratings_fn, sep='::', engine='python', encoding='latin-1',\n",
    "                     names=['userId','movieId','rating','timestamp'])\n",
    "ratings.head()"
   ]
  },
  {
   "cell_type": "markdown",
   "metadata": {},
   "source": [
    "Extract three columns from the `ratings` dataframe:\n",
    "\n",
    "* Set `user` to `ratings['userId']`,\n",
    "* Set `movie` to `ratings['movieId']`\n",
    "* Set `y` to `ratings['rating']`\n",
    "\n",
    "Convert to each to an `np.array`.  Print:\n",
    "\n",
    "* Total number of movies (the maximum movie index)\n",
    "* Total number of users\n",
    "* Total number of ratings\n",
    "* The average fraction of movies rated per user\n",
    "\n",
    "You should see that only a small fraction of the movies are rated by each user."
   ]
  },
  {
   "cell_type": "code",
   "execution_count": 7,
   "metadata": {},
   "outputs": [
    {
     "name": "stdout",
     "output_type": "stream",
     "text": [
      "Number of movies = 3953\n",
      "Number of users  = 6041\n",
      "Number of samples = 1000209\n",
      "Fraction rated =   4.1885e-02\n"
     ]
    }
   ],
   "source": [
    "user  = np.array(ratings['userId'])\n",
    "movie = np.array(ratings['movieId'])\n",
    "y = np.array(ratings['rating'])\n",
    "\n",
    "#movie_ind0, movie = np.unique(movie0, return_inverse=True)\n",
    "\n",
    "nuser = np.max(user)+1\n",
    "nmovie = np.max(movie)+1\n",
    "nsamp = movie.shape[0]\n",
    "print('Number of movies = %d' % nmovie)\n",
    "print('Number of users  = %d' % nuser)\n",
    "print('Number of samples = %d' % nsamp)\n",
    "print('Fraction rated = %12.4e' % (nsamp/nmovie/nuser))"
   ]
  },
  {
   "cell_type": "markdown",
   "metadata": {},
   "source": [
    "Our goal will be to predict the rating `y` from the indices `movie` and `user`.  We need to split the data into training and test.\n",
    "Create training and test data of the form:\n",
    "\n",
    "* Training data:  `Xtr = [usertr, movietr]` and `ytr` for approximately 75% of the samples.\n",
    "* Test data:  `Xts = [userts, moviets]` and `yts` for approximately 25% of the samples."
   ]
  },
  {
   "cell_type": "code",
   "execution_count": 9,
   "metadata": {},
   "outputs": [],
   "source": [
    "# TODO\n",
    "#   Xtr, ytr = ...\n",
    "#   Xts, yts = ...\n",
    "ntr = int(nsamp * 0.75)\n",
    "I = np.random.permutation(nsamp)\n",
    "Xtr = [user[I[:ntr]], movie[I[:ntr]] ]\n",
    "Xts = [user[I[ntr:]], movie[I[ntr:]] ]\n",
    "ytr = y[I[:ntr]]\n",
    "yts = y[I[ntr:]]"
   ]
  },
  {
   "cell_type": "markdown",
   "metadata": {},
   "source": [
    "## Simple Rating Prediction Based on Average Rating\n",
    "\n",
    "Before we try to perform a complex algorithm for predicting a movie rating, we will first compute some simple statistics to get you familar with the data set.  First, compute the average movie rating across all movies in the training data set."
   ]
  },
  {
   "cell_type": "code",
   "execution_count": 11,
   "metadata": {},
   "outputs": [
    {
     "name": "stdout",
     "output_type": "stream",
     "text": [
      "Avg rating =    3.58\n"
     ]
    }
   ],
   "source": [
    "# TODO\n",
    "y0 = np.mean(ytr)\n",
    "print('Avg rating = %7.2f' % y0)"
   ]
  },
  {
   "cell_type": "markdown",
   "metadata": {},
   "source": [
    "Next, find the average rating per movie id. For each movie id, `i` compute `ymean[i]`, the average rating for that movie in the training data set and `ycnt[i]`, the number of ratings the movie had.  If `ycnt[i]==0`, set `ymean[i]=y0`, where `y0` is the average overall rating. \n",
    "\n",
    "You will want to think about how you do this computation efficiently since the data set `ytr` has a large number of entries.  Make you sure you go over the entries in `ytr` only once.  Even if you do it efficiently, it will take a minute, so you may want to add a progress bar."
   ]
  },
  {
   "cell_type": "code",
   "execution_count": 13,
   "metadata": {},
   "outputs": [
    {
     "name": "stderr",
     "output_type": "stream",
     "text": [
      "100%|██████████████████████████████████████████████████████████████████████| 750156/750156 [00:02<00:00, 276586.49it/s]\n"
     ]
    }
   ],
   "source": [
    "# TODO\n",
    "# ymean = ...\n",
    "ycnt = np.zeros(nmovie)\n",
    "usertr, movietr = Xtr\n",
    "ymean = np.tile(y0, nmovie)\n",
    "\n",
    "ntr = len(ytr)\n",
    "with tqdm.tqdm(total=ntr) as pbar: \n",
    "    for m, r in zip(movietr, ytr):\n",
    "        ycnt[m] += 1\n",
    "        ymean[m] = 1/ycnt[m]*r + (1-1/ycnt[m])*ymean[m]\n",
    "        pbar.update(1)"
   ]
  },
  {
   "cell_type": "markdown",
   "metadata": {},
   "source": [
    "Print all the movies that had an average rating over 4.8.  Print their titles, the average rating and the number of ratings they had.  You will see that most of the movies with very high ratings had very few ratings."
   ]
  },
  {
   "cell_type": "code",
   "execution_count": 15,
   "metadata": {},
   "outputs": [
    {
     "name": "stdout",
     "output_type": "stream",
     "text": [
      "                         Lamerica (1994) rating= 4.83 cnt=    6 \n",
      "                   Dangerous Game (1993) rating= 5.00 cnt=    1 \n",
      "                  Foreign Student (1994) rating= 5.00 cnt=    1 \n",
      "      Gate of Heavenly Peace, The (1995) rating= 5.00 cnt=    3 \n",
      "                 Follow the Bitch (1998) rating= 5.00 cnt=    1 \n",
      "   Dry Cleaning (Nettoyage à sec) (1997) rating= 5.00 cnt=    1 \n",
      "                 Ulysses (Ulisse) (1954) rating= 5.00 cnt=    1 \n",
      "                    Smashing Time (1967) rating= 5.00 cnt=    1 \n",
      "     I Am Cuba (Soy Cuba/Ya Kuba) (1964) rating= 4.80 cnt=    5 \n",
      "                        Baby, The (1973) rating= 5.00 cnt=    1 \n",
      "               Gay Deceivers, The (1969) rating= 5.00 cnt=    1 \n",
      "                One Little Indian (1973) rating= 5.00 cnt=    1 \n",
      "                            Lured (1947) rating= 5.00 cnt=    1 \n",
      "                     Sunset Strip (2000) rating= 5.00 cnt=    2 \n",
      "                Bittersweet Motel (2000) rating= 5.00 cnt=    1 \n"
     ]
    }
   ],
   "source": [
    "# TODO\n",
    "I = np.where(ymean >= 4.8)[0]\n",
    "for i in I:\n",
    "    print('%40s rating=%5.2f cnt=%5d ' % (get_movie_title(i), ymean[i], ycnt[i]))"
   ]
  },
  {
   "cell_type": "markdown",
   "metadata": {},
   "source": [
    "Now, for each `i` in the test data set, compute `yhat[i]` to be the mean rating for the movie in rating `i`.  Find the average value `|yhat[i]-yts[i]|`.  This is called the *mean absolute error* or MAE and is a common metric in evaluating recommendation predictions.  If you did everything correctly, you should get an MAE ~= 0.78.  That means that simply using the average movie rating by users will predict the rating of another user within 0.78 on average."
   ]
  },
  {
   "cell_type": "code",
   "execution_count": 16,
   "metadata": {},
   "outputs": [
    {
     "name": "stdout",
     "output_type": "stream",
     "text": [
      "MAE =   7.8151e-01\n"
     ]
    }
   ],
   "source": [
    "# TODO\n",
    "#   yhat = ...\n",
    "#   mae = ...\n",
    "userts, moviets = Xts\n",
    "yhat = ymean[moviets]\n",
    "mae = np.mean(np.abs(yhat - yts))\n",
    "print('MAE = %12.4e' % mae)"
   ]
  },
  {
   "cell_type": "markdown",
   "metadata": {},
   "source": [
    "## Building a Neural Network Recommender\n",
    "We now build a neural network for predicting the ratings.  First, we load the necessary packages."
   ]
  },
  {
   "cell_type": "code",
   "execution_count": 18,
   "metadata": {},
   "outputs": [],
   "source": [
    "import tensorflow as tf\n",
    "\n",
    "from tensorflow.keras.layers import Input, Embedding, Dot, Reshape, Dense, Flatten, Add, Lambda\n",
    "from tensorflow.keras.models import Model\n",
    "import tensorflow.keras.backend as K\n",
    "from tensorflow.keras import regularizers\n",
    "from tensorflow.keras.optimizers import Adam, SGD, RMSprop"
   ]
  },
  {
   "cell_type": "markdown",
   "metadata": {},
   "source": [
    "We can now create a neural network in Tensorflow as follows:\n",
    "\n",
    "*  Set the embedding dimension to `emb_dim=4`.  \n",
    "*  Let `userid_in` and `movieid_in` be the input user and movie indices.  These can be created in Tensorflow with `Input` layers with `shape = (1,)`. \n",
    "*  The user index generates a bias `user_bias`.  Use an `Embedding` layer with `output_dim=1` followed by a `Flatten` layer.  \n",
    "*  The user index also generates a weight `user_wt`.  Use a second `Embedding` layer with `output_dim=emb_dim` followed by a `Flatten` layer.  \n",
    "*  The movie index generates biases `movie_bias` and `movie_wt` similar to the user bias.\n",
    "*  We then make the rating prediction with `yhat = Dot(user_wt, movie_wt) + user_bias + movie_bias`. \n",
    "*  Optionally, you can add bias and weight regularization, although I found these did not help significantly.\n",
    "*  Set the model to `mod = Model([userid_in, movieid_in], yhat)`.\n",
    "\n",
    "Print a summary of the model `mod.summary()`. \n"
   ]
  },
  {
   "cell_type": "code",
   "execution_count": 36,
   "metadata": {},
   "outputs": [
    {
     "name": "stdout",
     "output_type": "stream",
     "text": [
      "Model: \"functional_1\"\n",
      "__________________________________________________________________________________________________\n",
      "Layer (type)                    Output Shape         Param #     Connected to                     \n",
      "==================================================================================================\n",
      "user (InputLayer)               [(None, 1)]          0                                            \n",
      "__________________________________________________________________________________________________\n",
      "movie (InputLayer)              [(None, 1)]          0                                            \n",
      "__________________________________________________________________________________________________\n",
      "user_wt0 (Embedding)            (None, 1, 4)         24164       user[0][0]                       \n",
      "__________________________________________________________________________________________________\n",
      "movie_wt0 (Embedding)           (None, 1, 4)         15812       movie[0][0]                      \n",
      "__________________________________________________________________________________________________\n",
      "user_wt (Flatten)               (None, 4)            0           user_wt0[0][0]                   \n",
      "__________________________________________________________________________________________________\n",
      "movie_wt (Flatten)              (None, 4)            0           movie_wt0[0][0]                  \n",
      "__________________________________________________________________________________________________\n",
      "movie_bias0 (Embedding)         (None, 1, 1)         3953        movie[0][0]                      \n",
      "__________________________________________________________________________________________________\n",
      "product (Dot)                   (None, 1)            0           user_wt[0][0]                    \n",
      "                                                                 movie_wt[0][0]                   \n",
      "__________________________________________________________________________________________________\n",
      "movie_bias (Flatten)            (None, 1)            0           movie_bias0[0][0]                \n",
      "__________________________________________________________________________________________________\n",
      "user_bias0 (Embedding)          (None, 1, 1)         6041        user[0][0]                       \n",
      "__________________________________________________________________________________________________\n",
      "yhat1 (Add)                     (None, 1)            0           product[0][0]                    \n",
      "                                                                 movie_bias[0][0]                 \n",
      "__________________________________________________________________________________________________\n",
      "user_bias (Flatten)             (None, 1)            0           user_bias0[0][0]                 \n",
      "__________________________________________________________________________________________________\n",
      "yhat (Add)                      (None, 1)            0           yhat1[0][0]                      \n",
      "                                                                 user_bias[0][0]                  \n",
      "==================================================================================================\n",
      "Total params: 49,970\n",
      "Trainable params: 49,970\n",
      "Non-trainable params: 0\n",
      "__________________________________________________________________________________________________\n"
     ]
    }
   ],
   "source": [
    "# TODO:\n",
    "#    mod = ...\n",
    "#    mod.summary()\n",
    "\n",
    "def create_mod(emb_dim, nuser, nmovie, bias_reg=0.0, wt_reg=0.0):\n",
    "\n",
    "    userid_in = Input(name='user', shape=(1,))\n",
    "    movieid_in = Input(name='movie', shape=(1,))\n",
    "    user_bias0 = Embedding(input_dim=nuser, output_dim=1,name='user_bias0',\n",
    "                          embeddings_regularizer=regularizers.l2(bias_reg))(userid_in)\n",
    "    user_bias = Flatten(name='user_bias')(user_bias0)\n",
    "    movie_bias0 = Embedding(input_dim=nmovie, output_dim=1,name='movie_bias0',\n",
    "                           embeddings_regularizer=regularizers.l2(bias_reg))(movieid_in)\n",
    "    movie_bias = Flatten(name='movie_bias')(movie_bias0)        \n",
    "\n",
    "    if emb_dim > 0:\n",
    "        user_wt0 = Embedding(input_dim=nuser, output_dim=emb_dim,name='user_wt0',\n",
    "                            embeddings_regularizer=regularizers.l2(wt_reg))(userid_in)\n",
    "        user_wt = Flatten(name='user_wt')(user_wt0)\n",
    "        movie_wt0 = Embedding(input_dim=nmovie, output_dim=emb_dim,name='movie_wt0',\n",
    "                             embeddings_regularizer=regularizers.l2(wt_reg))(movieid_in)\n",
    "        movie_wt = Flatten(name='movie_wt')(movie_wt0)\n",
    "        yhat0 = Dot(name='product',axes=1)([user_wt, movie_wt])\n",
    "        yhat1  = Add(name='yhat1')([yhat0, movie_bias])\n",
    "        yhat  = Add(name='yhat')([yhat1, user_bias])\n",
    "    else:\n",
    "        yhat  = Add(name='yhat')([movie_bias, user_bias])\n",
    "\n",
    "    mod = Model([userid_in, movieid_in], yhat)\n",
    "    return mod\n",
    "\n",
    "K.clear_session()\n",
    "mod = create_mod(emb_dim=4, nuser=nuser, nmovie=nmovie)\n",
    "mod.summary()"
   ]
  },
  {
   "cell_type": "markdown",
   "metadata": {},
   "source": [
    "Compile the model with `Adam` optimizer with a learning rate of `0.01` (I found these numbers to work out well).  Use the \n",
    "`'mean_absolute_error'` loss.  Then fit the model with 8 epochs.  Use a batch size of 1000.  "
   ]
  },
  {
   "cell_type": "code",
   "execution_count": 37,
   "metadata": {},
   "outputs": [
    {
     "name": "stdout",
     "output_type": "stream",
     "text": [
      "Epoch 1/8\n"
     ]
    },
    {
     "name": "stderr",
     "output_type": "stream",
     "text": [
      "C:\\Users\\sdran\\anaconda3\\lib\\site-packages\\tensorflow\\python\\framework\\indexed_slices.py:432: UserWarning: Converting sparse IndexedSlices to a dense Tensor of unknown shape. This may consume a large amount of memory.\n",
      "  warnings.warn(\n"
     ]
    },
    {
     "name": "stdout",
     "output_type": "stream",
     "text": [
      "751/751 [==============================] - 1s 1ms/step - loss: 1.1399 - val_loss: 0.7454\n",
      "Epoch 2/8\n",
      "751/751 [==============================] - 1s 1ms/step - loss: 0.7367 - val_loss: 0.7344\n",
      "Epoch 3/8\n",
      "751/751 [==============================] - 1s 1ms/step - loss: 0.7225 - val_loss: 0.7247\n",
      "Epoch 4/8\n",
      "751/751 [==============================] - 1s 1ms/step - loss: 0.7061 - val_loss: 0.7132\n",
      "Epoch 5/8\n",
      "751/751 [==============================] - 1s 1ms/step - loss: 0.6934 - val_loss: 0.7092\n",
      "Epoch 6/8\n",
      "751/751 [==============================] - 1s 1ms/step - loss: 0.6860 - val_loss: 0.7045\n",
      "Epoch 7/8\n",
      "751/751 [==============================] - 1s 1ms/step - loss: 0.6813 - val_loss: 0.7031\n",
      "Epoch 8/8\n",
      "751/751 [==============================] - 1s 1ms/step - loss: 0.6776 - val_loss: 0.7029\n"
     ]
    }
   ],
   "source": [
    "# TODO\n",
    "#    opt = ...\n",
    "#    mod.compile(...)\n",
    "#    mod.fit(...)\n",
    "opt = Adam(lr=0.01)\n",
    "mod.compile(optimizer=opt, loss='mean_absolute_error')\n",
    "hist = mod.fit(Xtr,ytr,epochs=8,batch_size=1000, validation_data=(Xts,yts),\\\n",
    "              verbose=1)"
   ]
  },
  {
   "cell_type": "markdown",
   "metadata": {},
   "source": [
    "Print the training and test loss as a function of the epochs.  If you did it correctly the final test loss should be around  0.71 and the training loss should be 0.68.  This is a little better than the MAE you get just using the average movie rating."
   ]
  },
  {
   "cell_type": "code",
   "execution_count": 31,
   "metadata": {},
   "outputs": [
    {
     "data": {
      "text/plain": [
       "<matplotlib.legend.Legend at 0x21e5374b280>"
      ]
     },
     "execution_count": 31,
     "metadata": {},
     "output_type": "execute_result"
    },
    {
     "data": {
      "image/png": "[encoded data removed]",
      "text/plain": [
       "<Figure size 432x288 with 1 Axes>"
      ]
     },
     "metadata": {
      "needs_background": "light"
     },
     "output_type": "display_data"
    }
   ],
   "source": [
    "loss = hist.history['loss']\n",
    "val_loss = hist.history['val_loss']\n",
    "plt.plot(loss, 'o-')\n",
    "plt.plot(val_loss,'o-')\n",
    "plt.grid()\n",
    "plt.legend(['Training', 'Test'])\n",
    "\n",
    "    "
   ]
  },
  {
   "cell_type": "markdown",
   "metadata": {},
   "source": [
    "## Making Predictions!\n",
    "\n",
    "Select a random user, `user_id`.  Then, for each movie index, use the model to predict the ratings. Set the predictions to `yhat`."
   ]
  },
  {
   "cell_type": "code",
   "execution_count": 75,
   "metadata": {},
   "outputs": [],
   "source": [
    "# TODO\n",
    "#    user_id = ...\n",
    "#    yhat = ...\n",
    "user_id = np.random.randint(0,nuser,1)\n",
    "movie_in = np.arange(nmovie)[:,None]\n",
    "user_in = np.tile(user_id, (nmovie,1))\n",
    "\n",
    "yhat = mod.predict([user_in, movie_in])"
   ]
  },
  {
   "cell_type": "markdown",
   "metadata": {},
   "source": [
    "Print the names of the movies with the top 10 predicted ratings for the user as well as the average rating that those movies had.  You will see that the network may predict ratings above 5!  We could have avoided this by limiting the output."
   ]
  },
  {
   "cell_type": "code",
   "execution_count": 77,
   "metadata": {},
   "outputs": [
    {
     "name": "stdout",
     "output_type": "stream",
     "text": [
      "Confessional, The (Le Confessionnal) (1995)         5.24  2.67\n",
      "Schindler's List (1993)                             5.07  4.51\n",
      "Ulysses (Ulisse) (1954)                             4.99  5.00\n",
      "Man of the Century (1999)                           4.99  4.00\n",
      "Talk of Angels (1998)                               4.96  4.00\n",
      "Shawshank Redemption, The (1994)                    4.92  4.55\n",
      "Walk in the Sun, A (1945)                           4.91  4.25\n",
      "Godfather, The (1972)                               4.90  4.53\n",
      "Casablanca (1942)                                   4.88  4.43\n",
      "Chushingura (1962)                                  4.87  4.00\n"
     ]
    }
   ],
   "source": [
    "# TODO\n",
    "yhat = yhat.ravel()\n",
    "I = np.flipud(np.argsort(yhat))\n",
    "n = 10\n",
    "for i in range(n):\n",
    "    j = I[i]\n",
    "    movie_title = get_movie_title(j)    \n",
    "    print('%-50s %5.2f %5.2f' % (movie_title, yhat[j], ymean[j]) )\n",
    "    \n",
    "    "
   ]
  },
  {
   "cell_type": "markdown",
   "metadata": {},
   "source": [
    "## Bonus:  Optimizing the Embedding Dimension\n",
    "\n",
    "You can try to optimize the embedding dimension.  Try different dimensions from 0 to 8.  "
   ]
  },
  {
   "cell_type": "code",
   "execution_count": 78,
   "metadata": {},
   "outputs": [
    {
     "name": "stderr",
     "output_type": "stream",
     "text": [
      "C:\\Users\\sdran\\anaconda3\\lib\\site-packages\\tensorflow\\python\\framework\\indexed_slices.py:432: UserWarning: Converting sparse IndexedSlices to a dense Tensor of unknown shape. This may consume a large amount of memory.\n",
      "  warnings.warn(\n"
     ]
    },
    {
     "name": "stdout",
     "output_type": "stream",
     "text": [
      "Dim=0 loss=  7.1251e-01 val_loss=  7.1689e-01\n",
      "Dim=1 loss=  7.0006e-01 val_loss=  7.0785e-01\n",
      "Dim=2 loss=  6.9037e-01 val_loss=  7.0488e-01\n",
      "Dim=3 loss=  6.7931e-01 val_loss=  7.0187e-01\n",
      "Dim=4 loss=  6.7226e-01 val_loss=  7.0201e-01\n",
      "Dim=5 loss=  6.6419e-01 val_loss=  7.0097e-01\n",
      "Dim=6 loss=  6.6025e-01 val_loss=  7.0228e-01\n",
      "Dim=7 loss=  6.5500e-01 val_loss=  7.0538e-01\n"
     ]
    }
   ],
   "source": [
    "# TODO\n",
    "emb_dim_test = np.arange(8)\n",
    "ntest = len(emb_dim_test)\n",
    "nepochs1 = 10\n",
    "nepochs0 = 10\n",
    "nepochs = nepochs0*nepochs1\n",
    "\n",
    "nepochs = 10\n",
    "\n",
    "hist_tot = []\n",
    "val_loss = np.zeros(ntest)\n",
    "loss = np.zeros(ntest)\n",
    "\n",
    "for itest, emb_dim in enumerate(emb_dim_test):\n",
    "            \n",
    "    K.clear_session()\n",
    "    mod = create_mod(emb_dim=emb_dim, nuser=nuser, nmovie=nmovie)    \n",
    "    opt = Adam(lr=0.01)\n",
    "    mod.compile(optimizer=opt, loss='mean_absolute_error')\n",
    "    \n",
    "    hist = mod.fit(Xtr,ytr,epochs=nepochs,batch_size=1000, verbose=0, validation_data=(Xts,yts))\n",
    "    hist_tot.append(hist.history)\n",
    "    \n",
    "    val_loss[itest] = hist.history['val_loss'][-1]\n",
    "    loss[itest]     = hist.history['loss'][-1]\n",
    "    print('Dim=%d loss=%12.4e val_loss=%12.4e' % (emb_dim, loss[itest], val_loss[itest]) )"
   ]
  },
  {
   "cell_type": "markdown",
   "metadata": {},
   "source": [
    "Plot the training and test loss as a function of the embedding layer. We see we get a minimum with an embedding dimension around 4 or 5."
   ]
  },
  {
   "cell_type": "code",
   "execution_count": 79,
   "metadata": {},
   "outputs": [
    {
     "data": {
      "text/plain": [
       "<matplotlib.legend.Legend at 0x21e505b6e20>"
      ]
     },
     "execution_count": 79,
     "metadata": {},
     "output_type": "execute_result"
    },
    {
     "data": {
      "image/png": "[encoded data removed]",
      "text/plain": [
       "<Figure size 432x288 with 1 Axes>"
      ]
     },
     "metadata": {
      "needs_background": "light"
     },
     "output_type": "display_data"
    }
   ],
   "source": [
    "plt.plot(emb_dim_test, val_loss, 'o-')\n",
    "plt.plot(emb_dim_test, loss, 'o-')\n",
    "plt.grid()\n",
    "plt.ylabel('MAE')\n",
    "plt.xlabel('Embedding dim')\n",
    "plt.legend(['Test', 'Train'])\n",
    "\n"
   ]
  },
  {
   "cell_type": "code",
   "execution_count": null,
   "metadata": {},
   "outputs": [],
   "source": []
  }
 ],
 "metadata": {
  "kernelspec": {
   "display_name": "Python 3",
   "language": "python",
   "name": "python3"
  },
  "language_info": {
   "codemirror_mode": {
    "name": "ipython",
    "version": 3
   },
   "file_extension": ".py",
   "mimetype": "text/x-python",
   "name": "python",
   "nbconvert_exporter": "python",
   "pygments_lexer": "ipython3",
   "version": "3.8.3"
  }
 },
 "nbformat": 4,
 "nbformat_minor": 2
}
